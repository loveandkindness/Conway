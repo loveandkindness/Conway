{
 "cells": [
  {
   "cell_type": "markdown",
   "metadata": {},
   "source": [
    "**Note:** Here we compare between three implementations of [Conway's game of life](https://en.wikipedia.org/wiki/Conway%27s_Game_of_Life). \n",
    "\n",
    " * The first and second methods apply Conway's rules iteratively to each element of a 2D grid. This is done first in Python, then again in Cython. \n",
    " * The third method makes use of NumPy vectorization to apply Conway's rules to the entire 2D grid at once. This is typically not possible in reaction-diffusion equations, but it is with Conway's rules."
   ]
  },
  {
   "cell_type": "code",
   "execution_count": 1,
   "metadata": {
    "collapsed": false
   },
   "outputs": [
    {
     "name": "stdout",
     "output_type": "stream",
     "text": [
      "Created `%t` as an alias for `%timeit`.\n",
      "Created `%%t` as an alias for `%%timeit`.\n"
     ]
    }
   ],
   "source": [
    "%load_ext Cython\n",
    "import os, sys, copy\n",
    "from collections import namedtuple\n",
    "import numpy as np\n",
    "from numpy import log, exp, minimum\n",
    "from matplotlib import pylab as plt\n",
    "%alias_magic t timeit"
   ]
  },
  {
   "cell_type": "code",
   "execution_count": 2,
   "metadata": {
    "collapsed": false
   },
   "outputs": [],
   "source": [
    "def iterate_v1(Z, c):\n",
    "    '''Element by elemenent iteration.\n",
    "    \n",
    "    Args:\n",
    "        Z (ndarray) - Represents 2D space\n",
    "        c (namedtuple) - Container for constants\n",
    "    Returns:\n",
    "        Z (ndarray)\n",
    "    '''\n",
    "    \n",
    "    # Holds the sum of neighbors for each element in Z\n",
    "    N = np.zeros((c.rows-1, c.cols-1), dtype=np.int32)    \n",
    "    \n",
    "    # Count neighbors\n",
    "    for x in range(1, c.rows-1):\n",
    "        for y in range(1, c.cols-1):\n",
    "            N[x, y] = (Z[x-1, y-1] + Z[x-1, y] + Z[x-1, y+1] +\n",
    "                       Z[x,   y-1]             + Z[x,   y+1] +\n",
    "                       Z[x+1, y-1] + Z[x+1, y] + Z[x+1, y+1])\n",
    "            \n",
    "    # Apply rules\n",
    "    for x in range(1, c.rows-1):\n",
    "        for y in range(1, c.cols-1):\n",
    "            if Z[x, y] == 1 and (N[x, y] < 2 or N[x, y] > 3):\n",
    "                Z[x, y] = 0\n",
    "            elif Z[x, y] == 0 and N[x, y] == 3:\n",
    "                Z[x, y] = 1\n",
    "    return Z"
   ]
  },
  {
   "cell_type": "code",
   "execution_count": 3,
   "metadata": {
    "collapsed": false
   },
   "outputs": [],
   "source": [
    "%%cython\n",
    "#cython: wraparound=False, boundscheck=False, cdivision=True\n",
    "#cython: profile=False, nonecheck=False, overflowcheck=False\n",
    "#cython: cdivision_warnings=False, unraisable_tracebacks=False\n",
    "import numpy as np\n",
    "cimport numpy as np\n",
    "\n",
    "cpdef iterate_v2(Z, c):\n",
    "    '''Element by elemenent iteration.\n",
    "\n",
    "    Args:\n",
    "        Z (ndarray - int) - Represents 2D space\n",
    "        c (namedtuple) - Container for constants\n",
    "    Returns:\n",
    "        Z (ndarray - int)\n",
    "    '''\n",
    "\n",
    "    # Holds the sum of neighbors for each element in Z\n",
    "    N = np.zeros((c.rows-1, c.cols-1), dtype=int)\n",
    "\n",
    "    cdef int rows = c.rows\n",
    "    cdef int cols = c.cols\n",
    "    cdef long [:, :] N_ = N\n",
    "    cdef long [:, :] Z_ = Z\n",
    "    cdef int x, y\n",
    "\n",
    "    with nogil:\n",
    "        \n",
    "        # Count neighbors\n",
    "        for x in range(1, rows-1):\n",
    "            for y in range(1, cols-1):\n",
    "                N_[x, y] = (Z_[x-1, y-1] + Z_[x-1, y] + Z_[x-1, y+1] +\n",
    "                            Z_[x,   y-1]              + Z_[x,   y+1] +\n",
    "                            Z_[x+1, y-1] + Z_[x+1, y] + Z_[x+1, y+1])\n",
    "                \n",
    "        # Apply rules \n",
    "        for x in range(1, rows-1):\n",
    "            for y in range(1, cols-1):\n",
    "                if Z_[x, y] == 1 and (N_[x, y] < 2 or N_[x, y] > 3):\n",
    "                    Z_[x, y] = 0\n",
    "                elif Z_[x, y] == 0 and N_[x, y] == 3:\n",
    "                     Z_[x, y] = 1\n",
    "\n",
    "    return np.array(Z_)"
   ]
  },
  {
   "cell_type": "code",
   "execution_count": 4,
   "metadata": {
    "collapsed": true
   },
   "outputs": [],
   "source": [
    "def iterate_v3(Z, c):\n",
    "    '''NumPy vectorization on boolean arrays.\n",
    "\n",
    "    Args:\n",
    "        Z (ndarray) - Represents 2D space\n",
    "        c (namedtuple) - Container for constants\n",
    "    Returns:\n",
    "        Z (ndarray)\n",
    "    '''\n",
    "\n",
    "    # Holds the sum of neighbors for each element in Z\n",
    "    \n",
    "    # Count neighbors\n",
    "    N = (Z[0:-2,0:-2] + Z[0:-2,1:-1] + Z[0:-2,2:] +\n",
    "         Z[1:-1,0:-2]                + Z[1:-1,2:] +\n",
    "         Z[2:  ,0:-2] + Z[2:  ,1:-1] + Z[2:  ,2:])\n",
    "\n",
    "    # Apply rules\n",
    "    birth = (N==3) & (Z[1:-1, 1:-1]==0)\n",
    "    survive = ((N==2) | (N==3)) & (Z[1:-1, 1:-1]==1)\n",
    "    Z[...] = 0\n",
    "    Z[1:-1,1:-1][birth | survive] = 1\n",
    "\n",
    "    return Z"
   ]
  },
  {
   "cell_type": "code",
   "execution_count": 5,
   "metadata": {
    "collapsed": true
   },
   "outputs": [],
   "source": [
    "def init_grid(c):\n",
    "    '''Initialized the 2D grid with random values, with an empty border.'''\n",
    "\n",
    "    Z = np.random.randint(0, 2, (c.rows, c.cols))\n",
    "    \n",
    "    Z[0, :] = 0\n",
    "    Z[-1, :] = 0\n",
    "    Z[:, 0] = 0\n",
    "    Z[:, -1] = 0\n",
    "    \n",
    "    return Z"
   ]
  },
  {
   "cell_type": "code",
   "execution_count": 6,
   "metadata": {
    "collapsed": false
   },
   "outputs": [
    {
     "name": "stdout",
     "output_type": "stream",
     "text": [
      "1000 loops, best of 3: 51.3 ms per loop\n",
      "1000 loops, best of 3: 62.6 µs per loop\n",
      "1000 loops, best of 3: 208 µs per loop\n"
     ]
    }
   ],
   "source": [
    "Const = namedtuple('c', ['rows', 'cols', 'n_iterations'])\n",
    "c = Const(rows=100, cols=100, n_iterations=100)\n",
    "\n",
    "for iterate in [iterate_v1, iterate_v2, iterate_v3]:\n",
    "    \n",
    "    Z = init_grid(c)\n",
    "    %t -n1000 -r3 iterate(Z, c)"
   ]
  },
  {
   "cell_type": "markdown",
   "metadata": {},
   "source": [
    "Results\n",
    "--------\n",
    "\n",
    "Iteration in Python was three orders of magnitude slower than ether iteration in Cython or NumPy vectorization. Cython was a little over three times faster that NumPy vectorization."
   ]
  },
  {
   "cell_type": "markdown",
   "metadata": {},
   "source": [
    "*References*\n",
    "\n",
    " * Nicolas P. Rougier: [Numpy tutorial](http://www.labri.fr/perso/nrougier/teaching/numpy/numpy.html)\n",
    "\n",
    " * From StackExchange and StackOverflow: [Fastest way to iterate over NumPy arrays](http://codereview.stackexchange.com/questions/38580/fastest-way-to-iterate-over-numpy-array), [Python List Comprehension Vs. Map](http://stackoverflow.com/questions/1247486/python-list-comprehension-vs-map), [Optimizing ... Game of Life [in] NumPy](http://codereview.stackexchange.com/questions/46011/optimizing-very-simple-piece-of-game-of-life-code-by-taking-advantage-of-numpy)\n",
    "\n",
    " * From reddit's /r/learnpython: [Cython optimization ...](https://www.reddit.com/r/learnpython/comments/3g73ux/cython_optimization_can_i_get_any_closer/)"
   ]
  }
 ],
 "metadata": {
  "kernelspec": {
   "display_name": "Python 3",
   "language": "python",
   "name": "python3"
  },
  "language_info": {
   "codemirror_mode": {
    "name": "ipython",
    "version": 3
   },
   "file_extension": ".py",
   "mimetype": "text/x-python",
   "name": "python",
   "nbconvert_exporter": "python",
   "pygments_lexer": "ipython3",
   "version": "3.5.1"
  }
 },
 "nbformat": 4,
 "nbformat_minor": 0
}
