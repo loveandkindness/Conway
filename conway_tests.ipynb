{
 "cells": [
  {
   "cell_type": "markdown",
   "metadata": {},
   "source": [
    "Purpose\n",
    "====\n",
    "\n",
    "In this document we explore some of the differences between Python, Cython, and NumPy for optimized calcutions.\n",
    "\n",
    "Various implementations of [Conway's game of life](https://en.wikipedia.org/wiki/Conway%27s_Game_of_Life) will be used as examples.\n",
    "\n",
    "Please see the doctring of each _iterate_ function for more information.\n",
    "\n",
    "Sources\n",
    "--------\n",
    "\n",
    "Nicolas P. Rougier: [Numpy tutorial](http://www.labri.fr/perso/nrougier/teaching/numpy/numpy.html)\n",
    "\n",
    "From StackExchange and StackOverflow: [Fastest way to iterate over NumPy arrays](http://codereview.stackexchange.com/questions/38580/fastest-way-to-iterate-over-numpy-array), [Python List Comprehension Vs. Map](http://stackoverflow.com/questions/1247486/python-list-comprehension-vs-map), [Optimizing ... Game of Life [in] NumPy](http://codereview.stackexchange.com/questions/46011/optimizing-very-simple-piece-of-game-of-life-code-by-taking-advantage-of-numpy)\n",
    "\n",
    "From reddit's /r/learnpython: [Cython optimization ...](https://www.reddit.com/r/learnpython/comments/3g73ux/cython_optimization_can_i_get_any_closer/)"
   ]
  },
  {
   "cell_type": "code",
   "execution_count": 1,
   "metadata": {
    "collapsed": false
   },
   "outputs": [
    {
     "name": "stdout",
     "output_type": "stream",
     "text": [
      "Created `%t` as an alias for `%timeit`.\n",
      "Created `%%t` as an alias for `%%timeit`.\n"
     ]
    }
   ],
   "source": [
    "%load_ext Cython\n",
    "import os, sys, copy\n",
    "from collections import namedtuple\n",
    "import pandas as pd\n",
    "from pandas import Series, DataFrame\n",
    "import numpy as np\n",
    "from numpy import log, exp, minimum\n",
    "from matplotlib import pylab as plt\n",
    "import cPickle as pickles\n",
    "%alias_magic t timeit"
   ]
  },
  {
   "cell_type": "code",
   "execution_count": 2,
   "metadata": {
    "collapsed": true
   },
   "outputs": [],
   "source": [
    "def view_results(src, dst, c, m):\n",
    "    '''Load Z_all from pickle. Save Z_all to disk as images.'''\n",
    "    \n",
    "    Z_all = pickle.load(open(src, 'rb'))\n",
    "    \n",
    "    fig = plt.figure(figsize=m.figsize, dpi=m.dpi, facecolor=\"white\")\n",
    "    ax1 = fig.add_axes([0.0, 0.0, 1.0, 1.0], frameon=False)\n",
    "\n",
    "    for i in range(c.n_iterations):\n",
    "        ax1.imshow(Z_all[i], interpolation='nearest', cmap=plt.cm.gray_r)\n",
    "        \n",
    "        fig.savefig('./{}/img_{}.png'.format(dst, i))\n",
    "        ax1.cla()\n",
    "\n",
    "    plt.close(fig)"
   ]
  },
  {
   "cell_type": "code",
   "execution_count": 3,
   "metadata": {
    "collapsed": false
   },
   "outputs": [],
   "source": [
    "def iterate_v1(Z, c):\n",
    "    '''Naive element by element iteration.\n",
    "    \n",
    "    Args:\n",
    "        Z (ndarray) - Represents 2D space\n",
    "        c (namedtuple) - Container for constants\n",
    "    Returns:\n",
    "        Z (ndarray)\n",
    "    '''\n",
    "    \n",
    "    # Count neighbors\n",
    "    N = np.zeros((c.rows-1, c.cols-1), dtype=np.int32)\n",
    "    \n",
    "    for x in range(1, c.cols-1):\n",
    "        for y in range(1, c.rows-1):\n",
    "            N[y][x] = (Z[y-1][x-1]+Z[y][x-1]+Z[y+1][x-1] +\n",
    "                       Z[y-1][x]            +Z[y+1][x]   +\n",
    "                       Z[y-1][x+1]+Z[y][x+1]+Z[y+1][x+1])\n",
    "    # Apply rules\n",
    "    for x in range(1, c.cols-1):\n",
    "        for y in range(1, c.rows-1):\n",
    "            if Z[y][x] == 1 and (N[y][x] < 2 or N[y][x] > 3):\n",
    "                Z[y][x] = 0\n",
    "            elif Z[y][x] == 0 and N[y][x] == 3:\n",
    "                Z[y][x] = 1\n",
    "    return Z"
   ]
  },
  {
   "cell_type": "code",
   "execution_count": 4,
   "metadata": {
    "collapsed": false
   },
   "outputs": [],
   "source": [
    "def iterate_v2(Z, c):\n",
    "    '''Element by elemenent iteration with NumPy indexing.\n",
    "    \n",
    "    Args:\n",
    "        Z (ndarray) - Represents 2D space\n",
    "        c (namedtuple) - Container for constants\n",
    "    Returns:\n",
    "        Z (ndarray)\n",
    "    '''\n",
    "    \n",
    "    # Count neighbors\n",
    "    N = np.zeros((c.rows-1, c.cols-1), dtype=np.int32)\n",
    "    \n",
    "    for x in range(1, c.rows-1):\n",
    "        for y in range(1, c.cols-1):\n",
    "            N[x, y] = (Z[x-1, y-1] + Z[x-1, y] + Z[x-1, y+1] +\n",
    "                       Z[x,   y-1]             + Z[x,   y+1] +\n",
    "                       Z[x+1, y-1] + Z[x+1, y] + Z[x+1, y+1])\n",
    "    # Apply rules\n",
    "    for x in range(1, c.rows-1):\n",
    "        for y in range(1, c.cols-1):\n",
    "            if Z[x, y] == 1 and (N[x, y] < 2 or N[x, y] > 3):\n",
    "                Z[x, y] = 0\n",
    "            elif Z[x, y] == 0 and N[x, y] == 3:\n",
    "                Z[x, y] = 1\n",
    "    return Z"
   ]
  },
  {
   "cell_type": "code",
   "execution_count": 5,
   "metadata": {
    "collapsed": true
   },
   "outputs": [],
   "source": [
    "def iterate_v3(Z, c):\n",
    "    '''NumPy vectorization and boolean arrays.\n",
    "\n",
    "    Args:\n",
    "        Z (ndarray) - Represents 2D space\n",
    "        c (namedtuple) - Container for constants\n",
    "    Returns:\n",
    "        Z (ndarray)\n",
    "    '''\n",
    "\n",
    "    # Count neighbours\n",
    "    N = (Z[0:-2,0:-2] + Z[0:-2,1:-1] + Z[0:-2,2:] +\n",
    "         Z[1:-1,0:-2]                + Z[1:-1,2:] +\n",
    "         Z[2:  ,0:-2] + Z[2:  ,1:-1] + Z[2:  ,2:])\n",
    "\n",
    "    # Apply rules\n",
    "    birth = (N==3) & (Z[1:-1, 1:-1]==0)\n",
    "    survive = ((N==2) | (N==3)) & (Z[1:-1, 1:-1]==1)\n",
    "    Z[...] = 0\n",
    "    Z[1:-1,1:-1][birth | survive] = 1\n",
    "\n",
    "    return Z"
   ]
  },
  {
   "cell_type": "code",
   "execution_count": 6,
   "metadata": {
    "collapsed": true
   },
   "outputs": [],
   "source": [
    "%%cython\n",
    "import numpy as np\n",
    "cimport numpy as np\n",
    "\n",
    "cpdef iterate_v4(Z, c):\n",
    "    '''Element by elemenent iteration with NumPy indexing and untyped Cython.\n",
    "\n",
    "    Args:\n",
    "        Z (ndarray) - Represents 2D space\n",
    "        c (namedtuple) - Container for constants\n",
    "    Returns:\n",
    "        Z (ndarray)\n",
    "    '''\n",
    "\n",
    "    # Count neighbors\n",
    "    N = np.zeros((c.rows-1, c.cols-1), dtype=np.int32)\n",
    "\n",
    "    for x in range(1, c.rows-1):\n",
    "        for y in range(1, c.cols-1):\n",
    "            N[x, y] = (Z[x-1, y-1] + Z[x-1, y] + Z[x-1, y+1] +\n",
    "                       Z[x,   y-1]             + Z[x,   y+1] +\n",
    "                       Z[x+1, y-1] + Z[x+1, y] + Z[x+1, y+1])\n",
    "    # Apply rules\n",
    "    for x in range(1, c.rows-1):\n",
    "        for y in range(1, c.cols-1):\n",
    "            if Z[x, y] == 1 and (N[x, y] < 2 or N[x, y] > 3):\n",
    "                Z[x, y] = 0\n",
    "            elif Z[x, y] == 0 and N[x, y] == 3:\n",
    "                Z[x, y] = 1\n",
    "    return Z"
   ]
  },
  {
   "cell_type": "code",
   "execution_count": 7,
   "metadata": {
    "collapsed": false
   },
   "outputs": [],
   "source": [
    "%%cython\n",
    "#cython: wraparound=False, boundscheck=False, cdivision=True\n",
    "#cython: profile=False, nonecheck=False, overflowcheck=False\n",
    "#cython: cdivision_warnings=False, unraisable_tracebacks=False\n",
    "import numpy as np\n",
    "cimport numpy as np\n",
    "\n",
    "cpdef iterate_v5(Z, c):\n",
    "    '''Element by elemenent iteration with optimized Cython.\n",
    "\n",
    "    Args:\n",
    "        Z (ndarray - int32) - Represents 2D space\n",
    "        c (namedtuple) - Container for constants\n",
    "    Returns:\n",
    "        Z (ndarray - int32)\n",
    "    '''\n",
    "\n",
    "    # Count neighbors\n",
    "    N = np.zeros((c.rows-1, c.cols-1), dtype=np.int32)\n",
    "\n",
    "    cdef int rows = c.rows\n",
    "    cdef int cols = c.cols\n",
    "    cdef int [:, :] N_ = N\n",
    "    cdef int [:, :] Z_ = Z\n",
    "    cdef int x, y\n",
    "\n",
    "    with nogil:\n",
    "        for x in range(1, rows-1):\n",
    "            for y in range(1, cols-1):\n",
    "                N_[x, y] = (Z_[x-1, y-1] + Z_[x-1, y] + Z_[x-1, y+1] +\n",
    "                            Z_[x,   y-1]              + Z_[x,   y+1] +\n",
    "                            Z_[x+1, y-1] + Z_[x+1, y] + Z_[x+1, y+1])\n",
    "        # Apply rules\n",
    "        for x in range(1, rows-1):\n",
    "            for y in range(1, cols-1):\n",
    "                if Z_[x, y] == 1 and (N_[x, y] < 2 or N_[x, y] > 3):\n",
    "                    Z_[x, y] = 0\n",
    "                elif Z_[x, y] == 0 and N_[x, y] == 3:\n",
    "                     Z_[x, y] = 1\n",
    "\n",
    "    return np.array(Z_)"
   ]
  },
  {
   "cell_type": "code",
   "execution_count": 8,
   "metadata": {
    "collapsed": true
   },
   "outputs": [],
   "source": [
    "def time_me(c, lbl, iterate):\n",
    "    '''This method exists only to allow easy use of timeit.'''\n",
    "    \n",
    "    Z = np.random.randint(0, 2, (c.rows, c.cols)).astype(np.int32)\n",
    "    Z[0, :] = 0\n",
    "    Z[-1, :] = 0\n",
    "    Z[:, 0] = 0\n",
    "    Z[:, -1] = 0\n",
    "    \n",
    "    Z_all = np.empty((c.n_iterations, c.rows, c.cols), dtype=np.int32)\n",
    "    \n",
    "    for i in range(c.n_iterations):\n",
    "        Z_all[i, ...] = iterate(Z, c)\n",
    "    \n",
    "    #pickle.dump(Z_all, open('./results_{}.p'.format(lbl), 'wb'))"
   ]
  },
  {
   "cell_type": "code",
   "execution_count": 9,
   "metadata": {
    "collapsed": false
   },
   "outputs": [],
   "source": [
    "def test_all_versions(versions, c):\n",
    "    '''Iterate over Z, then save Z_all to disk if enabled.'''\n",
    "    \n",
    "    # global variables used here as a quick hack for timeit\n",
    "    global lbl  \n",
    "    global iterate \n",
    "    \n",
    "    for lbl, iterate in versions.iteritems(): \n",
    "        %t -n1 time_me(c, lbl, iterate)"
   ]
  },
  {
   "cell_type": "code",
   "execution_count": 10,
   "metadata": {
    "collapsed": true
   },
   "outputs": [],
   "source": [
    "Const = namedtuple('c', ['rows', 'cols', 'nd', 'n_iterations'])\n",
    "c = Const(rows=100, cols=100, nd=2, n_iterations=100)\n",
    "\n",
    "dpi = 20.0\n",
    "figsize = c.cols / float(dpi), c.rows / float(dpi)\n",
    "Config_mpl = namedtuple('m', ['figsize', 'dpi'])\n",
    "m = Config_mpl(figsize=figsize, dpi=dpi)"
   ]
  },
  {
   "cell_type": "code",
   "execution_count": 11,
   "metadata": {
    "collapsed": false
   },
   "outputs": [
    {
     "name": "stdout",
     "output_type": "stream",
     "text": [
      "1 loops, best of 3: 9.05 s per loop\n",
      "1 loops, best of 3: 7.53 s per loop\n",
      "1 loops, best of 3: 19.7 ms per loop\n",
      "1 loops, best of 3: 7.17 s per loop\n",
      "1 loops, best of 3: 7.75 ms per loop\n"
     ]
    }
   ],
   "source": [
    "versions = {'v1': iterate_v1, 'v2': iterate_v2, 'v3': iterate_v3, \n",
    "            'v4': iterate_v4, 'v5': iterate_v5}\n",
    "\n",
    "test_all_versions(versions, c)"
   ]
  },
  {
   "cell_type": "code",
   "execution_count": 13,
   "metadata": {
    "collapsed": false
   },
   "outputs": [],
   "source": [
    "# Make directories for images\n",
    "if not os.path.exists('v1'):\n",
    "    for i in range(1, 6):\n",
    "        os.makedirs('v{}'.format(i))\n",
    "\n",
    "for i in range(1, 6):\n",
    "    view_results('results_v{}.p'.format(i), 'v{}'.format(i), c, m)"
   ]
  }
 ],
 "metadata": {
  "kernelspec": {
   "display_name": "Python 2",
   "language": "python",
   "name": "python2"
  },
  "language_info": {
   "codemirror_mode": {
    "name": "ipython",
    "version": 2
   },
   "file_extension": ".py",
   "mimetype": "text/x-python",
   "name": "python",
   "nbconvert_exporter": "python",
   "pygments_lexer": "ipython2",
   "version": "2.7.6"
  }
 },
 "nbformat": 4,
 "nbformat_minor": 0
}
