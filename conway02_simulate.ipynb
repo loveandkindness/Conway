{
 "cells": [
  {
   "cell_type": "markdown",
   "metadata": {},
   "source": [
    "**Note:** A single simulation is performed with results being saved in an HDF file.\n",
    "\n",
    "**Warning:** If a `results` directory exists in the working directory, old results will be lost."
   ]
  },
  {
   "cell_type": "code",
   "execution_count": 1,
   "metadata": {
    "collapsed": false
   },
   "outputs": [],
   "source": [
    "import time\n",
    "import os\n",
    "import shutil\n",
    "from collections import namedtuple\n",
    "import numpy as np\n",
    "import h5py\n",
    "import pickle\n",
    "import pyximport; pyximport.install()\n",
    "from Iterate import iterate"
   ]
  },
  {
   "cell_type": "code",
   "execution_count": 2,
   "metadata": {
    "collapsed": true
   },
   "outputs": [],
   "source": [
    "def init_grid(c):\n",
    "    '''Initialized the 2D grid with random values, with an empty border.'''\n",
    "\n",
    "    Z = np.random.randint(0, 2, (c.rows, c.cols))\n",
    "    \n",
    "    Z[0, :] = 0\n",
    "    Z[-1, :] = 0\n",
    "    Z[:, 0] = 0\n",
    "    Z[:, -1] = 0\n",
    "    \n",
    "    return Z"
   ]
  },
  {
   "cell_type": "code",
   "execution_count": 3,
   "metadata": {
    "collapsed": false
   },
   "outputs": [],
   "source": [
    "# Configure parameters\n",
    "Const = namedtuple('c', ['rows', 'cols', 'n_iterations', 'rootdir'])\n",
    "c = Const(rows=150, cols=150, n_iterations=600, rootdir='./results/')\n",
    "\n",
    "# Create a fresh results directory\n",
    "if os.path.exists(c.rootdir):\n",
    "    shutil.rmtree(c.rootdir)\n",
    "os.makedirs(c.rootdir)\n",
    "\n",
    "pickle.dump(c._asdict(), open('./results/c.p', 'wb'))"
   ]
  },
  {
   "cell_type": "code",
   "execution_count": 4,
   "metadata": {
    "collapsed": false
   },
   "outputs": [
    {
     "name": "stdout",
     "output_type": "stream",
     "text": [
      "Time elapsed:  0.17676782608032227\n"
     ]
    }
   ],
   "source": [
    "start = time.time()\n",
    "\n",
    "# Initialize grid\n",
    "Z = init_grid(c)\n",
    "\n",
    "Z_history = np.empty((c.rows, c.cols, c.n_iterations), dtype=int)\n",
    "Z_history[:, :, 0] = Z  # Initial state\n",
    "\n",
    "for i in range(1, c.n_iterations):\n",
    "    \n",
    "    Z = iterate(Z, c)\n",
    "    Z_history[:, :, i] = Z \n",
    "\n",
    "print('Time elapsed: ', time.time() - start)"
   ]
  },
  {
   "cell_type": "code",
   "execution_count": 5,
   "metadata": {
    "collapsed": true
   },
   "outputs": [],
   "source": [
    "# Create new store\n",
    "f = h5py.File(os.path.join(c.rootdir, 'results.hdf5'), 'w')\n",
    "dset = f.create_dataset(\"Results\", (c.rows, c.cols, c.n_iterations), dtype=int)\n",
    "dset[...] = Z_history[...]\n",
    "f.close()"
   ]
  }
 ],
 "metadata": {
  "kernelspec": {
   "display_name": "Python 3",
   "language": "python",
   "name": "python3"
  },
  "language_info": {
   "codemirror_mode": {
    "name": "ipython",
    "version": 3
   },
   "file_extension": ".py",
   "mimetype": "text/x-python",
   "name": "python",
   "nbconvert_exporter": "python",
   "pygments_lexer": "ipython3",
   "version": "3.5.1"
  }
 },
 "nbformat": 4,
 "nbformat_minor": 0
}
