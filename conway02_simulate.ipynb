{
 "cells": [
  {
   "cell_type": "markdown",
   "metadata": {},
   "source": [
    "**Note:** A single simulation is performed with results being saved in an HDF file.\n",
    "\n",
    "**Warning:** If a `results` directory exists in the working directory, old results will be lost."
   ]
  },
  {
   "cell_type": "code",
   "execution_count": 1,
   "metadata": {
    "collapsed": false
   },
   "outputs": [
    {
     "name": "stdout",
     "output_type": "stream",
     "text": [
      "Created `%t` as an alias for `%timeit`.\n",
      "Created `%%t` as an alias for `%%timeit`.\n"
     ]
    }
   ],
   "source": [
    "%load_ext Cython\n",
    "import time\n",
    "import os\n",
    "import shutil\n",
    "from collections import namedtuple\n",
    "import numpy as np\n",
    "import h5py\n",
    "import pickle"
   ]
  },
  {
   "cell_type": "code",
   "execution_count": 2,
   "metadata": {
    "collapsed": false
   },
   "outputs": [],
   "source": [
    "%%cython\n",
    "#cython: wraparound=False, boundscheck=False, cdivision=True\n",
    "#cython: profile=False, nonecheck=False, overflowcheck=False\n",
    "#cython: cdivision_warnings=False, unraisable_tracebacks=False\n",
    "import numpy as np\n",
    "cimport numpy as np\n",
    "\n",
    "cpdef iterate(Z, c):\n",
    "    '''Element by elemenent iteration.\n",
    "\n",
    "    Args:\n",
    "        Z (ndarray - int) - Represents 2D space\n",
    "        c (namedtuple) - Container for constants\n",
    "    Returns:\n",
    "        Z (ndarray - int)\n",
    "    '''\n",
    "\n",
    "    # Holds the sum of neighbors for each element in Z\n",
    "    N = np.zeros((c.rows-1, c.cols-1), dtype=int)\n",
    "\n",
    "    cdef int rows = c.rows\n",
    "    cdef int cols = c.cols\n",
    "    cdef long [:, :] N_ = N\n",
    "    cdef long [:, :] Z_ = Z\n",
    "    cdef int x, y\n",
    "\n",
    "    with nogil:\n",
    "        \n",
    "        # Count neighbors\n",
    "        for x in range(1, rows-1):\n",
    "            for y in range(1, cols-1):\n",
    "                N_[x, y] = (Z_[x-1, y-1] + Z_[x-1, y] + Z_[x-1, y+1] +\n",
    "                            Z_[x,   y-1]              + Z_[x,   y+1] +\n",
    "                            Z_[x+1, y-1] + Z_[x+1, y] + Z_[x+1, y+1])\n",
    "                \n",
    "        # Apply rules \n",
    "        for x in range(1, rows-1):\n",
    "            for y in range(1, cols-1):\n",
    "                if Z_[x, y] == 1 and (N_[x, y] < 2 or N_[x, y] > 3):\n",
    "                    Z_[x, y] = 0\n",
    "                elif Z_[x, y] == 0 and N_[x, y] == 3:\n",
    "                     Z_[x, y] = 1\n",
    "\n",
    "    return np.array(Z_)"
   ]
  },
  {
   "cell_type": "code",
   "execution_count": 3,
   "metadata": {
    "collapsed": true
   },
   "outputs": [],
   "source": [
    "def init_grid(c):\n",
    "    '''Initialized the 2D grid with random values, with an empty border.'''\n",
    "\n",
    "    Z = np.random.randint(0, 2, (c.rows, c.cols))\n",
    "    \n",
    "    Z[0, :] = 0\n",
    "    Z[-1, :] = 0\n",
    "    Z[:, 0] = 0\n",
    "    Z[:, -1] = 0\n",
    "    \n",
    "    return Z"
   ]
  },
  {
   "cell_type": "code",
   "execution_count": 4,
   "metadata": {
    "collapsed": false
   },
   "outputs": [],
   "source": [
    "# Configure parameters\n",
    "Const = namedtuple('c', ['rows', 'cols', 'n_iterations', 'rootdir'])\n",
    "c = Const(rows=150, cols=150, n_iterations=600, rootdir='./results/')\n",
    "\n",
    "# Create a fresh results directory\n",
    "if os.path.exists(c.rootdir):\n",
    "    shutil.rmtree(c.rootdir)\n",
    "os.makedirs(c.rootdir)\n",
    "\n",
    "pickle.dump(c._asdict(), open('./results/c.p', 'wb'))"
   ]
  },
  {
   "cell_type": "code",
   "execution_count": 5,
   "metadata": {
    "collapsed": false
   },
   "outputs": [
    {
     "name": "stdout",
     "output_type": "stream",
     "text": [
      "Time elapsed:  0.305417537689209\n"
     ]
    }
   ],
   "source": [
    "start = time.time()\n",
    "\n",
    "# Initialize grid\n",
    "Z = init_grid(c)\n",
    "\n",
    "Z_history = np.empty((c.rows, c.cols, c.n_iterations), dtype=int)\n",
    "Z_history[:, :, 0] = Z  # Initial state\n",
    "\n",
    "for i in range(1, c.n_iterations):\n",
    "        \n",
    "    Z = iterate(Z, c)\n",
    "    \n",
    "    Z_history[:, :, i] = Z \n",
    "\n",
    "print('Time elapsed: ', time.time() - start)"
   ]
  },
  {
   "cell_type": "code",
   "execution_count": 6,
   "metadata": {
    "collapsed": true
   },
   "outputs": [],
   "source": [
    "# Create new store\n",
    "f = h5py.File(os.path.join(c.rootdir, 'results.hdf5'), 'w')\n",
    "dset = f.create_dataset(\"Results\", (c.rows, c.cols, c.n_iterations), dtype=int)\n",
    "dset[...] = Z_history[...]\n",
    "f.close()"
   ]
  }
 ],
 "metadata": {
  "kernelspec": {
   "display_name": "Python 3",
   "language": "python",
   "name": "python3"
  },
  "language_info": {
   "codemirror_mode": {
    "name": "ipython",
    "version": 3
   },
   "file_extension": ".py",
   "mimetype": "text/x-python",
   "name": "python",
   "nbconvert_exporter": "python",
   "pygments_lexer": "ipython3",
   "version": "3.5.1"
  }
 },
 "nbformat": 4,
 "nbformat_minor": 0
}
