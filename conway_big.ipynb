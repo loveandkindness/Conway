{
 "cells": [
  {
   "cell_type": "markdown",
   "metadata": {},
   "source": [
    "Conway's Game of Life\n",
    "============\n",
    "\n",
    "## Purpose\n",
    "\n",
    "By exploring a large simulation of [Conway's Game of Life](https://en.wikipedia.org/wiki/Conway%27s_Game_of_Life), we will expose many powerful features of the Python programming language. This file hopes to serve as a template for students of science, who often hold deep knowledge of relevant reaction networks, but lack the technical abilities to create these arbitrary simulations.\n",
    "\n",
    "#### Explanation of definitions\n",
    "\n",
    "* Z (ndarray, int32): 2D array of life (1 or 0).\n",
    "* N (ndarray, int32): Temporary array used to tally the count of neighbors at each point on Z. N has the shape of Z minus one on each axis.\n",
    "* Z_chunk (DataFrame, int32): History of the past few iterations of Z\n",
    "* Z_all (DataFrame, int32): All history of Z. May be too large for memory. Exists only in the HDF store.\n",
    "\n",
    "#### Method\n",
    "\n",
    "1. On Z, randomly place values 0 or 1\n",
    "2. Eliminate life from the edges of Z (acts as a boarder when counting neighbors)\n",
    "3. For each chunk\n",
    "    1. For the size a chunk\n",
    "        1. Iterate forward in time\n",
    "        2. Save Z in Z_chunk\n",
    "    2. Save Z_chunk in Z_all\n",
    "4. Convert HDF store to images"
   ]
  },
  {
   "cell_type": "code",
   "execution_count": 1,
   "metadata": {
    "collapsed": false
   },
   "outputs": [],
   "source": [
    "import time\n",
    "import os, sys\n",
    "from matplotlib import pylab as plt\n",
    "import numpy as np\n",
    "import h5pys\n",
    "from collections import namedtuple"
   ]
  },
  {
   "cell_type": "code",
   "execution_count": 2,
   "metadata": {
    "collapsed": false
   },
   "outputs": [],
   "source": [
    "def iterate(Z):\n",
    "    # Count neighbours\n",
    "    N = (Z[0:-2,0:-2] + Z[0:-2,1:-1] + Z[0:-2,2:] +\n",
    "         Z[1:-1,0:-2]                + Z[1:-1,2:] +\n",
    "         Z[2:  ,0:-2] + Z[2:  ,1:-1] + Z[2:  ,2:])\n",
    "\n",
    "    # Apply rules\n",
    "    birth = (N==3) & (Z[1:-1,1:-1]==0)\n",
    "    survive = ((N==2) | (N==3)) & (Z[1:-1,1:-1]==1)\n",
    "    Z[...] = 0\n",
    "    Z[1:-1,1:-1][birth | survive] = 1\n",
    "    return Z"
   ]
  },
  {
   "cell_type": "markdown",
   "metadata": {},
   "source": [
    "#### Configure constants"
   ]
  },
  {
   "cell_type": "code",
   "execution_count": 3,
   "metadata": {
    "collapsed": false
   },
   "outputs": [],
   "source": [
    "# WARNING! Do not make these values large.\n",
    "# The pandas part of this code is poorly written and does not scale well.\n",
    "n_chunks = 10\n",
    "chunk_size = 100\n",
    "n_iterations = n_chunks * chunk_size\n",
    "rows = 1024\n",
    "cols = 1024\n",
    "\n",
    "# `c` is passed to all functions\n",
    "Const = namedtuple('c', ['rows', 'cols', 'n_iterations', 'chunk_size', 'n_chunks',\n",
    "                         'h5_path', 'save_path'])\n",
    "c = Const(rows=rows, cols=cols, n_iterations=n_iterations, chunk_size=chunk_size,\n",
    "          n_chunks=n_chunks, h5_path='life.hdf5', save_path='life_results')\n",
    "\n",
    "# Use `m` only for matplotlib parameters\n",
    "dpi = 72.0\n",
    "figsize = c.cols / float(dpi), c.rows / float(dpi)\n",
    "Config_mpl = namedtuple('m', ['figsize', 'dpi'])\n",
    "m = Config_mpl(figsize=figsize, dpi=dpi)"
   ]
  },
  {
   "cell_type": "markdown",
   "metadata": {},
   "source": [
    "#### Run the game"
   ]
  },
  {
   "cell_type": "code",
   "execution_count": 4,
   "metadata": {
    "collapsed": false
   },
   "outputs": [
    {
     "name": "stdout",
     "output_type": "stream",
     "text": [
      "Chunk 0\n",
      "Chunk 1\n",
      "Chunk 2\n",
      "Chunk 3\n",
      "Chunk 4\n",
      "Chunk 5\n",
      "Chunk 6\n",
      "Chunk 7\n",
      "Chunk 8\n",
      "Chunk 9\n",
      "Time elapsed:  49.1178689003\n"
     ]
    }
   ],
   "source": [
    "start = time.time()\n",
    "\n",
    "# Clear previous results if they exist\n",
    "if os.path.exists(c.h5_path):\n",
    "   os.system('rm ' + c.h5_path)\n",
    "# Create new store\n",
    "f = h5py.File(c.h5_path, 'w')\n",
    "        \n",
    "dset = f.create_dataset(\"Results\", (c.rows, c.cols, c.n_iterations), dtype=np.int32,\n",
    "                        chunks=(c.rows, c.cols, c.chunk_size))\n",
    "\n",
    "# Randomly place `1`s throughout the map\n",
    "Z = np.random.randint(0, 2, (c.rows, c.cols)).astype(np.int32)\n",
    "Z[0, :] = 0  # Clear boarders-- will act as a boundary\n",
    "Z[-1, :] = 0\n",
    "Z[:, 0] = 0\n",
    "Z[:, -1] = 0\n",
    "\n",
    "for i in range(c.n_chunks):\n",
    "    print 'Chunk', i\n",
    "\n",
    "    # Initialize Z_chunk\n",
    "    Z_chunk = np.zeros((c.rows, c.cols, c.chunk_size), dtype=np.int32)\n",
    "\n",
    "    for j in range(c.chunk_size):\n",
    "        Z_chunk[:, :, j] = iterate(Z)\n",
    "\n",
    "    dset[:, :, i*c.chunk_size : i*c.chunk_size+chunk_size] = Z_chunk\n",
    "\n",
    "print 'Time elapsed: ', time.time() - start"
   ]
  },
  {
   "cell_type": "markdown",
   "metadata": {},
   "source": [
    "#### View the results"
   ]
  },
  {
   "cell_type": "code",
   "execution_count": 5,
   "metadata": {
    "collapsed": false
   },
   "outputs": [],
   "source": [
    "# Create a folder in the current directory\n",
    "if not os.path.exists(c.h5_path):\n",
    "    os.makedirs(c.h5_path)\n",
    "else:  # Clear previous images if the directory exists\n",
    "    cmd = 'rm ./' + c.h5_path + '/*.png'\n",
    "    os.system(cmd)\n",
    "\n",
    "# Create figure\n",
    "fig = plt.figure(figsize=m.figsize, dpi=m.dpi, facecolor=\"white\")\n",
    "\n",
    "ax = fig.add_axes([0.0, 0.0, 1.0, 1.0], frameon=False)\n",
    "ax.get_xaxis().set_visible(False)\n",
    "ax.get_yaxis().set_visible(False)\n",
    "\n",
    "# Iterate through `dset` to create images\n",
    "for i in range(c.n_iterations):\n",
    "    Z = dset[:, :, i]\n",
    "    \n",
    "    # Show\n",
    "    ax.imshow(Z, cmap=plt.cm.gray_r)\n",
    "    # Save\n",
    "    fig.savefig('./{}/img_{}.png'.format(c.save_path, i))\n",
    "    # Clear\n",
    "    ax.cla()\n",
    "\n",
    "# Close\n",
    "plt.close(fig)"
   ]
  },
  {
   "cell_type": "code",
   "execution_count": null,
   "metadata": {
    "collapsed": true
   },
   "outputs": [],
   "source": []
  }
 ],
 "metadata": {
  "kernelspec": {
   "display_name": "Python 2",
   "language": "python",
   "name": "python2"
  },
  "language_info": {
   "codemirror_mode": {
    "name": "ipython",
    "version": 2
   },
   "file_extension": ".py",
   "mimetype": "text/x-python",
   "name": "python",
   "nbconvert_exporter": "python",
   "pygments_lexer": "ipython2",
   "version": "2.7.6"
  }
 },
 "nbformat": 4,
 "nbformat_minor": 0
}
